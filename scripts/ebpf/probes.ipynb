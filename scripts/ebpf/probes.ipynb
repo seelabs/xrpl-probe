{
 "cells": [
  {
   "cell_type": "code",
   "execution_count": 1,
   "metadata": {},
   "outputs": [],
   "source": [
    "%load_ext autoreload\n",
    "%autoreload 2"
   ]
  },
  {
   "cell_type": "code",
   "execution_count": 3,
   "metadata": {},
   "outputs": [
    {
     "ename": "ModuleNotFoundError",
     "evalue": "No module named 'bokeh'",
     "output_type": "error",
     "traceback": [
      "\u001b[0;31m---------------------------------------------------------------------------\u001b[0m",
      "\u001b[0;31mModuleNotFoundError\u001b[0m                       Traceback (most recent call last)",
      "\u001b[0;32m<ipython-input-3-c987e4fcc58e>\u001b[0m in \u001b[0;36m<module>\u001b[0;34m()\u001b[0m\n\u001b[1;32m      2\u001b[0m \u001b[0mcd\u001b[0m \u001b[0;34m=\u001b[0m \u001b[0mget_collection_data\u001b[0m\u001b[0;34m(\u001b[0m\u001b[0;34m'probes.db'\u001b[0m\u001b[0;34m)\u001b[0m\u001b[0;34m\u001b[0m\u001b[0;34m\u001b[0m\u001b[0m\n\u001b[1;32m      3\u001b[0m \u001b[0;34m\u001b[0m\u001b[0m\n\u001b[0;32m----> 4\u001b[0;31m \u001b[0;32mfrom\u001b[0m \u001b[0mbokeh\u001b[0m\u001b[0;34m.\u001b[0m\u001b[0mplotting\u001b[0m \u001b[0;32mimport\u001b[0m \u001b[0mfigure\u001b[0m\u001b[0;34m,\u001b[0m \u001b[0mshow\u001b[0m\u001b[0;34m\u001b[0m\u001b[0;34m\u001b[0m\u001b[0m\n\u001b[0m\u001b[1;32m      5\u001b[0m \u001b[0;32mfrom\u001b[0m \u001b[0mbokeh\u001b[0m\u001b[0;34m.\u001b[0m\u001b[0mio\u001b[0m \u001b[0;32mimport\u001b[0m \u001b[0mpush_notebook\u001b[0m\u001b[0;34m,\u001b[0m \u001b[0moutput_notebook\u001b[0m\u001b[0;34m\u001b[0m\u001b[0;34m\u001b[0m\u001b[0m\n\u001b[1;32m      6\u001b[0m \u001b[0moutput_notebook\u001b[0m\u001b[0;34m(\u001b[0m\u001b[0;34m)\u001b[0m\u001b[0;34m\u001b[0m\u001b[0;34m\u001b[0m\u001b[0m\n",
      "\u001b[0;31mModuleNotFoundError\u001b[0m: No module named 'bokeh'"
     ]
    }
   ],
   "source": [
    "from report_common import get_collection_data\n",
    "cd = get_collection_data('probes.db')\n",
    "\n",
    "from bokeh.plotting import figure, show\n",
    "from bokeh.io import push_notebook, output_notebook\n",
    "output_notebook()\n",
    "\n",
    "f = figure()\n",
    "\n",
    "f.circle(x=cd.rd.txns['timestamp'], y= cd.rd.txns['duration'])\n",
    "\n",
    "h = show(f, notebook_handle=True)\n",
    "# call push_notebook(handle=h) to update the plot"
   ]
  },
  {
   "cell_type": "code",
   "execution_count": 3,
   "metadata": {},
   "outputs": [
    {
     "data": {
      "text/html": [
       "\n",
       "<div class=\"bk-root\">\n",
       "    <div class=\"bk-plotdiv\" id=\"9753d525-7d33-4233-93a4-e704ad0075b4\"></div>\n",
       "</div>"
      ]
     },
     "metadata": {},
     "output_type": "display_data"
    },
    {
     "data": {
      "application/javascript": [
       "(function(root) {\n",
       "  function embed_document(root) {\n",
       "    \n",
       "  var docs_json = {\"a242c5f8-38bc-4df5-9aad-a671697fecd0\":{\"roots\":{\"references\":[{\"attributes\":{\"callback\":null,\"options\":[\"foo\",\"bar\",\"baz\",\"quux\"],\"title\":\"Option:\",\"value\":\"foo\"},\"id\":\"fa53d070-97e0-428e-8e5f-c72e75cd4327\",\"type\":\"Select\"},{\"attributes\":{\"active\":0,\"callback\":null,\"labels\":[\"Option 1\",\"Option 2\",\"Option 3\"]},\"id\":\"2f4178d9-1e92-4cd5-af2d-47318b2ea4e1\",\"type\":\"RadioButtonGroup\"},{\"attributes\":{\"callback\":null,\"end\":10,\"start\":0,\"step\":0.1,\"title\":\"Slider\",\"value\":1},\"id\":\"791c7011-95d1-4e48-9a58-7a921238544b\",\"type\":\"Slider\"},{\"attributes\":{\"callback\":null,\"icon\":null,\"label\":\"Button 2\"},\"id\":\"4c21c006-d107-4389-98c2-217a547daaff\",\"type\":\"Button\"},{\"attributes\":{\"callback\":null,\"icon\":null,\"label\":\"Button 1\"},\"id\":\"1ae013d3-3098-4586-98fd-84158e65f84f\",\"type\":\"Button\"},{\"attributes\":{\"children\":[{\"id\":\"1ae013d3-3098-4586-98fd-84158e65f84f\",\"type\":\"Button\"},{\"id\":\"791c7011-95d1-4e48-9a58-7a921238544b\",\"type\":\"Slider\"},{\"id\":\"2f4178d9-1e92-4cd5-af2d-47318b2ea4e1\",\"type\":\"RadioButtonGroup\"},{\"id\":\"fa53d070-97e0-428e-8e5f-c72e75cd4327\",\"type\":\"Select\"},{\"id\":\"4c21c006-d107-4389-98c2-217a547daaff\",\"type\":\"Button\"}],\"width\":300},\"id\":\"50d86aad-ec15-4cdf-ab6d-ace9a02396f8\",\"type\":\"WidgetBox\"}],\"root_ids\":[\"50d86aad-ec15-4cdf-ab6d-ace9a02396f8\"]},\"title\":\"Bokeh Application\",\"version\":\"0.12.16\"}};\n",
       "  var render_items = [{\"docid\":\"a242c5f8-38bc-4df5-9aad-a671697fecd0\",\"elementid\":\"9753d525-7d33-4233-93a4-e704ad0075b4\",\"modelid\":\"50d86aad-ec15-4cdf-ab6d-ace9a02396f8\"}];\n",
       "  root.Bokeh.embed.embed_items_notebook(docs_json, render_items);\n",
       "\n",
       "  }\n",
       "  if (root.Bokeh !== undefined) {\n",
       "    embed_document(root);\n",
       "  } else {\n",
       "    var attempts = 0;\n",
       "    var timer = setInterval(function(root) {\n",
       "      if (root.Bokeh !== undefined) {\n",
       "        embed_document(root);\n",
       "        clearInterval(timer);\n",
       "      }\n",
       "      attempts++;\n",
       "      if (attempts > 100) {\n",
       "        console.log(\"Bokeh: ERROR: Unable to run BokehJS code because BokehJS library is missing\")\n",
       "        clearInterval(timer);\n",
       "      }\n",
       "    }, 10, root)\n",
       "  }\n",
       "})(window);"
      ],
      "application/vnd.bokehjs_exec.v0+json": ""
     },
     "metadata": {
      "application/vnd.bokehjs_exec.v0+json": {
       "id": "50d86aad-ec15-4cdf-ab6d-ace9a02396f8"
      }
     },
     "output_type": "display_data"
    }
   ],
   "source": [
    "from bokeh.io import output_file, show\n",
    "from bokeh.layouts import widgetbox\n",
    "from bokeh.models.widgets import Button, RadioButtonGroup, Select, Slider\n",
    "\n",
    "# output_file(\"layout_widgets.html\")\n",
    "\n",
    "# create some widgets\n",
    "slider = Slider(start=0, end=10, value=1, step=.1, title=\"Slider\")\n",
    "button_group = RadioButtonGroup(labels=[\"Option 1\", \"Option 2\", \"Option 3\"], active=0)\n",
    "select = Select(title=\"Option:\", value=\"foo\", options=[\"foo\", \"bar\", \"baz\", \"quux\"])\n",
    "button_1 = Button(label=\"Button 1\")\n",
    "button_2 = Button(label=\"Button 2\")\n",
    "\n",
    "# put the results in a row\n",
    "show(widgetbox(button_1, slider, button_group, select, button_2, width=300))"
   ]
  }
 ],
 "metadata": {
  "kernelspec": {
   "display_name": "Python 3",
   "language": "python",
   "name": "python3"
  },
  "language_info": {
   "codemirror_mode": {
    "name": "ipython",
    "version": 3
   },
   "file_extension": ".py",
   "mimetype": "text/x-python",
   "name": "python",
   "nbconvert_exporter": "python",
   "pygments_lexer": "ipython3",
   "version": "3.7.3"
  }
 },
 "nbformat": 4,
 "nbformat_minor": 4
}
